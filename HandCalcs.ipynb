{
 "cells": [
  {
   "cell_type": "code",
   "execution_count": 65,
   "metadata": {},
   "outputs": [],
   "source": [
    "from sympy import symbols, Matrix, diff, cos, sin, pi, diff,Eq,sqrt\n",
    "from sympy import Rational as rat\n",
    "import sympy as sp\n",
    "from sympy.physics.vector import dynamicsymbols\n",
    "t,z,h,m,mf,mc,d,g,j,s,Kp_theta,Kd_theta,Kp_z,Kd_Z,K_DC,b = symbols('t,z,h,m,m_f,m_c,d,g,j,s,Kp_theta,Kd_theta,Kp_z,Kd_Z,K_DC,b')\n"
   ]
  },
  {
   "cell_type": "code",
   "execution_count": 109,
   "metadata": {},
   "outputs": [
    {
     "data": {
      "text/latex": [
       "$\\displaystyle \\left[\\begin{matrix}0 & 0 & 0 & 1 & 0 & 0\\\\0 & 0 & 0 & 0 & 1 & 0\\\\0 & 0 & 0 & 0 & 0 & 1\\\\0 & 0 & - \\frac{F \\cos{\\left(\\theta \\right)}}{m_{c} + 2 m_{f}} & - \\frac{b}{m_{c} + 2 m_{f}} & 0 & 0\\\\0 & 0 & - \\frac{F \\sin{\\left(\\theta \\right)}}{m_{c} + 2 m_{f}} & 0 & - \\frac{b}{m_{c} + 2 m_{f}} & 0\\\\0 & 0 & 0 & 0 & 0 & - \\frac{b}{2 d^{2} m_{f}}\\end{matrix}\\right]$"
      ],
      "text/plain": [
       "Matrix([\n",
       "[0, 0,                           0,                1,                0,               0],\n",
       "[0, 0,                           0,                0,                1,               0],\n",
       "[0, 0,                           0,                0,                0,               1],\n",
       "[0, 0, -F*cos(theta)/(m_c + 2*m_f), -b/(m_c + 2*m_f),                0,               0],\n",
       "[0, 0, -F*sin(theta)/(m_c + 2*m_f),                0, -b/(m_c + 2*m_f),               0],\n",
       "[0, 0,                           0,                0,                0, -b/(2*d**2*m_f)]])"
      ]
     },
     "metadata": {},
     "output_type": "display_data"
    },
    {
     "name": "stdout",
     "output_type": "stream",
     "text": [
      "Equations of Motion:\n"
     ]
    },
    {
     "data": {
      "text/latex": [
       "$\\displaystyle \\left[\\begin{matrix}\\dot{z}\\\\\\dot{h}\\\\\\dot{\\theta}\\\\- \\frac{F \\sin{\\left(\\theta \\right)} + b \\dot{z}}{m_{c} + 2 m_{f}}\\\\\\frac{F \\cos{\\left(\\theta \\right)} - b \\dot{h} + g \\left(- m_{c} - 2 m_{f}\\right)}{m_{c} + 2 m_{f}}\\\\\\frac{T - b \\dot{\\theta}}{2 d^{2} m_{f}}\\end{matrix}\\right]$"
      ],
      "text/plain": [
       "Matrix([\n",
       "[                                                    zDot],\n",
       "[                                                    hDot],\n",
       "[                                                thetaDot],\n",
       "[                  -(F*sin(theta) + b*zDot)/(m_c + 2*m_f)],\n",
       "[(F*cos(theta) - b*hDot + g*(-m_c - 2*m_f))/(m_c + 2*m_f)],\n",
       "[                           (T - b*thetaDot)/(2*d**2*m_f)]])"
      ]
     },
     "metadata": {},
     "output_type": "display_data"
    },
    {
     "name": "stdout",
     "output_type": "stream",
     "text": [
      "The linear state space:\n"
     ]
    },
    {
     "data": {
      "text/latex": [
       "$\\displaystyle \\left[\\begin{matrix}\\tilde{\\dot{z}}\\\\\\tilde{\\dot{h}}\\\\\\tilde{\\dot{\\theta}}\\\\\\tilde{\\ddot{z}}\\\\\\tilde{\\ddot{h}}\\\\\\tilde{\\ddot{\\theta}}\\end{matrix}\\right] = \\left[\\begin{matrix}0 & 0\\\\0 & 0\\\\0 & 0\\\\0 & 0\\\\\\frac{1}{m_{c} + 2 m_{f}} & 0\\\\0 & \\frac{1}{2 d^{2} m_{f}}\\end{matrix}\\right] \\left[\\begin{matrix}\\tilde{F}\\\\\\tilde{T}\\end{matrix}\\right] + \\left[\\begin{matrix}0 & 0 & 0 & 1 & 0 & 0\\\\0 & 0 & 0 & 0 & 1 & 0\\\\0 & 0 & 0 & 0 & 0 & 1\\\\0 & 0 & - g & - \\frac{b}{m_{c} + 2 m_{f}} & 0 & 0\\\\0 & 0 & 0 & 0 & - \\frac{b}{m_{c} + 2 m_{f}} & 0\\\\0 & 0 & 0 & 0 & 0 & - \\frac{b}{2 d^{2} m_{f}}\\end{matrix}\\right] \\left[\\begin{matrix}\\tilde{z}\\\\\\tilde{h}\\\\\\tilde{\\theta}\\\\\\tilde{\\dot{z}}\\\\\\tilde{\\dot{h}}\\\\\\tilde{\\dot{\\theta}}\\end{matrix}\\right]$"
      ],
      "text/plain": [
       "Eq(Matrix([\n",
       "[     zDotTilde],\n",
       "[     hDotTilde],\n",
       "[ thetaDotTilde],\n",
       "[    zDDotTilde],\n",
       "[    hDDotTilde],\n",
       "[thetaDDotTilde]]), Matrix([\n",
       "[              0,              0],\n",
       "[              0,              0],\n",
       "[              0,              0],\n",
       "[              0,              0],\n",
       "[1/(m_c + 2*m_f),              0],\n",
       "[              0, 1/(2*d**2*m_f)]])*Matrix([\n",
       "[FTilde],\n",
       "[TTilde]]) + Matrix([\n",
       "[0, 0,  0,                1,                0,               0],\n",
       "[0, 0,  0,                0,                1,               0],\n",
       "[0, 0,  0,                0,                0,               1],\n",
       "[0, 0, -g, -b/(m_c + 2*m_f),                0,               0],\n",
       "[0, 0,  0,                0, -b/(m_c + 2*m_f),               0],\n",
       "[0, 0,  0,                0,                0, -b/(2*d**2*m_f)]])*Matrix([\n",
       "[       zTilde],\n",
       "[       hTilde],\n",
       "[   thetaTilde],\n",
       "[    zDotTilde],\n",
       "[    hDotTilde],\n",
       "[thetaDotTilde]]))"
      ]
     },
     "metadata": {},
     "output_type": "display_data"
    },
    {
     "name": "stdout",
     "output_type": "stream",
     "text": [
      "Simplified linear equations of motion\n"
     ]
    },
    {
     "data": {
      "text/latex": [
       "$\\displaystyle \\left[\\begin{matrix}\\tilde{\\dot{z}}\\\\\\tilde{\\dot{h}}\\\\\\tilde{\\dot{\\theta}}\\\\- \\frac{b \\tilde{\\dot{z}}}{m_{c} + 2 m_{f}} - g \\tilde{\\theta}\\\\- \\frac{\\tilde{F}}{m_{c} + 2 m_{f}} - \\frac{b \\tilde{\\dot{h}}}{m_{c} + 2 m_{f}}\\\\- \\frac{\\tilde{T}}{2 d^{2} m_{f}} - \\frac{b \\tilde{\\dot{\\theta}}}{2 d^{2} m_{f}}\\end{matrix}\\right]$"
      ],
      "text/plain": [
       "Matrix([\n",
       "[                                          zDotTilde],\n",
       "[                                          hDotTilde],\n",
       "[                                      thetaDotTilde],\n",
       "[          -b*zDotTilde/(m_c + 2*m_f) - g*thetaTilde],\n",
       "[  -FTilde/(m_c + 2*m_f) - b*hDotTilde/(m_c + 2*m_f)],\n",
       "[-TTilde/(2*d**2*m_f) - b*thetaDotTilde/(2*d**2*m_f)]])"
      ]
     },
     "metadata": {},
     "output_type": "display_data"
    }
   ],
   "source": [
    "z_d, h_d, theta_d, Fl_d, Fr_d, F_d, T_d = dynamicsymbols('z, h, theta, F_l, F_r, F, T', 0)\n",
    "zD_d, hD_d, thetaD_d = dynamicsymbols('z, h, theta', 1)\n",
    "zDD_d, hDD_d, thetaDD_d = dynamicsymbols('z, h, theta', 2)\n",
    "Dynamic = [zDD_d, hDD_d, thetaDD_d, zD_d, hD_d, thetaD_d, z_d, h_d, theta_d, F_l, F_r, F_d]\n",
    "\n",
    "z_s, h_s, theta_s, Fl_s, Fr_s, F_s, T_s = symbols('z, h, theta, Fl, Fr, F, T')\n",
    "zD_s, hD_s, thetaD_s = symbols('zDot, hDot, thetaDot')\n",
    "zDD_s, hDD_s, thetaDD_s = symbols('zDDot, hDDot, thetaDDot')\n",
    "Static = [zDD_s, hDD_s, thetaDD_s, zD_s, hD_s, thetaD_s, z_s, h_s, theta_s, F_s, T_s]\n",
    "\n",
    "zTilde, hTilde, thetaTilde, zDTilde, hDTilde, thetaDTilde, zDDTilde, hDDTilde, thetaDDTilde, FTilde, TTilde = symbols('zTilde, hTilde, thetaTilde, zDotTilde, hDotTilde, thetaDotTilde, zDDotTilde, hDDotTilde, thetaDDotTilde, FTilde, TTilde')\n",
    "\n",
    "Pl = Matrix([[z_d - d * cos(theta_d), h_d - d * sin(theta_d), 0]]).T\n",
    "Pr = Matrix([[z_d + d * cos(theta_d), h_d + d * sin(theta_d), 0]]).T\n",
    "Pc = Matrix([[z_d, h_d, 0]]).T\n",
    "\n",
    "Vl = sp.diff(Pl, t)\n",
    "Vr = sp.diff(Pr, t)\n",
    "Vc = sp.diff(Pc, t)\n",
    "\n",
    "K = (rat(1,2) * mf * Vl.T * Vl)[0] + (rat(1,2) * mf * Vr.T @ Vr)[0] + (rat(1,2) * mc * Vc.T @ Vc)[0]\n",
    "\n",
    "# Kinetic Energy\n",
    "K = K.subs(zip((zD_d, hD_d, thetaD_d), (zD_s, hD_s, thetaD_s))).simplify().factor(zD_s, thetaD_s, hD_s).subs(zip((zD_s, hD_s, thetaD_s), (zD_d, hD_d, thetaD_d)))\n",
    "\n",
    "# Potential Energy\n",
    "P = g * h_d * (2 * mf + mc)\n",
    "\n",
    "# Lagrangian\n",
    "L = K - P\n",
    "\n",
    "# Euler Lagrange equations\n",
    "EL = Matrix([[sp.diff(sp.diff(L, zD_d), t) - sp.diff(L, z_d)],\n",
    "             [sp.diff(sp.diff(L, hD_d), t) - sp.diff(L, h_d)],\n",
    "             [sp.diff(sp.diff(L, thetaD_d), t) - sp.diff(L, theta_d)]])\n",
    "\n",
    "\n",
    "# Applied Force\n",
    "tau = Matrix([[(Fl_d + Fr_d) * sin(-theta_d)],\n",
    "              [(Fl_d + Fr_d) * cos(theta_d)],\n",
    "              [Fl_d * d - Fr_d * d]])\n",
    "\n",
    "# Damping\n",
    "Bq = Matrix([[b * zD_d],\n",
    "              [b * hD_d],\n",
    "              [b * thetaD_d]])\n",
    "\n",
    "# Equations of motion\n",
    "EOM = Eq(EL, tau - Bq)\n",
    "\n",
    "\n",
    "EOM = EOM.subs(zip((zDD_d, hDD_d, thetaDD_d, zD_d, hD_d, thetaD_d, z_d, h_d, theta_d, Fl_d, Fr_d),\n",
    "                   (zDD_s, hDD_s, thetaDD_s, zD_s, hD_s, thetaD_s, z_s, h_s, theta_s, Fl_s, Fr_s)))\n",
    "S = sp.solve(EOM, [zDD_s, hDD_s, thetaDD_s])\n",
    "EOM = Matrix([[S[zDD_s].simplify().factor(sin(theta_s)).subs(Fl_s+Fr_s, F_s)],\n",
    "              [S[hDD_s].simplify().factor(cos(theta_s), g).subs(Fl_s+Fr_s, F_s)],\n",
    "              [S[thetaDD_s].simplify().factor(d).subs(d * (Fl_s - Fr_s), T_s)]])\n",
    "\n",
    "# Equilibrium conditions\n",
    "temp = Eq(Matrix([[0, 0, 0]]).T, EOM).subs([(zD_s, 0), (hD_s, 0), (thetaD_s, 0), (theta_s, 0)])\n",
    "\n",
    "S = sp.solve(temp, [F_s, T_s])\n",
    "Fe = S[F_s]\n",
    "Te = S[T_s]\n",
    "theta_e = 0\n",
    "zDD_e = 0\n",
    "hDD_e = 0\n",
    "thetaDD_e = 0\n",
    "zD_e = 0\n",
    "hD_e = 0\n",
    "thetaD_e = 0\n",
    "\n",
    "EOM = Matrix([[zD_s,hD_s,thetaD_s]]).T.col_join(EOM)\n",
    "# Jacobian state space linearization\n",
    "state_vars = Matrix([z_s, h_s, theta_s, zD_s, hD_s, thetaD_s])\n",
    "input_vars = Matrix([F_s, T_s])\n",
    "A = EOM.jacobian(state_vars)\n",
    "B = EOM.jacobian(input_vars)\n",
    "display(A)\n",
    "equilibrium = {\n",
    "    theta_s: 0,\n",
    "    F_s: g * (mc + 2 * mf),\n",
    "    zD_s: 0,\n",
    "    hD_s: 0,\n",
    "    thetaD_s: 0,\n",
    "    T_s: 0\n",
    "}\n",
    "A = A.subs(equilibrium)\n",
    "B = B.subs(equilibrium)\n",
    "C = Matrix([[1,0,0],\n",
    "            [0,1,0],\n",
    "            [0,0,1]])\n",
    "\n",
    "x_tilde = Matrix([[zTilde, hTilde, thetaTilde, zDTilde, hDTilde, thetaDTilde]]).T\n",
    "u_tilde = Matrix([[FTilde, TTilde]]).T\n",
    "xDot_tilde = Matrix([[zDTilde, hDTilde, thetaDTilde, zDDTilde, hDDTilde, thetaDDTilde]]).T\n",
    "\n",
    "# State-space model\n",
    "print(\"Equations of Motion:\")\n",
    "display(EOM)\n",
    "print(\"The linear state space:\")\n",
    "display(Eq(xDot_tilde, sp.Add(sp.MatMul(A, x_tilde), sp.MatMul(B, u_tilde)), evaluate=False))\n",
    "\n",
    "# Linearized EOMs\n",
    "LIN_EOM = Eq(Matrix([[zDDTilde], [hDDTilde], [thetaDDTilde]]), A @ x_tilde - B @ u_tilde)\n",
    "print(\"Simplified linear equations of motion\")\n",
    "display(A @ x_tilde - B @ u_tilde)\n"
   ]
  },
  {
   "cell_type": "markdown",
   "metadata": {},
   "source": [
    "FULL-STATE FEEDBACK"
   ]
  },
  {
   "cell_type": "code",
   "execution_count": 105,
   "metadata": {},
   "outputs": [
    {
     "data": {
      "text/latex": [
       "$\\displaystyle \\left[\\begin{matrix}\\tilde{\\dot{z}}\\\\\\tilde{\\dot{\\theta}}\\\\\\tilde{\\ddot{z}}\\\\\\tilde{\\ddot{\\theta}}\\end{matrix}\\right] = \\left[\\begin{matrix}0\\\\0\\\\0\\\\\\frac{1}{2 d^{2} m_{f}}\\end{matrix}\\right] \\left[\\begin{matrix}T\\end{matrix}\\right] + \\left[\\begin{matrix}0 & 0 & 1 & 0\\\\0 & 0 & 0 & 1\\\\0 & - g & - \\frac{b}{m_{c} + 2 m_{f}} & 0\\\\0 & 0 & 0 & - \\frac{b}{2 d^{2} m_{f}}\\end{matrix}\\right] \\left[\\begin{matrix}z\\\\\\theta\\\\\\dot{z}\\\\\\dot{\\theta}\\end{matrix}\\right]$"
      ],
      "text/plain": [
       "Eq(Matrix([\n",
       "[     zDotTilde],\n",
       "[ thetaDotTilde],\n",
       "[    zDDotTilde],\n",
       "[thetaDDotTilde]]), Matrix([\n",
       "[             0],\n",
       "[             0],\n",
       "[             0],\n",
       "[1/(2*d**2*m_f)]])*Matrix([[T]]) + Matrix([\n",
       "[0,  0,                1,               0],\n",
       "[0,  0,                0,               1],\n",
       "[0, -g, -b/(m_c + 2*m_f),               0],\n",
       "[0,  0,                0, -b/(2*d**2*m_f)]])*Matrix([\n",
       "[       z],\n",
       "[   theta],\n",
       "[    zDot],\n",
       "[thetaDot]]))"
      ]
     },
     "metadata": {},
     "output_type": "display_data"
    },
    {
     "data": {
      "text/latex": [
       "$\\displaystyle \\left[\\begin{matrix}\\tilde{\\dot{h}}\\\\\\tilde{\\ddot{h}}\\end{matrix}\\right] = \\left[\\begin{matrix}0\\\\\\frac{1}{2 m_{c} m_{f}}\\end{matrix}\\right] \\left[\\begin{matrix}F\\end{matrix}\\right] + \\left[\\begin{matrix}0 & 1\\\\0 & - \\frac{b}{m_{c} + 2 m_{f}}\\end{matrix}\\right] \\left[\\begin{matrix}h\\\\\\dot{h}\\end{matrix}\\right]$"
      ],
      "text/plain": [
       "Eq(Matrix([\n",
       "[ hDotTilde],\n",
       "[hDDotTilde]]), Matrix([\n",
       "[            0],\n",
       "[1/(2*m_c*m_f)]])*Matrix([[F]]) + Matrix([\n",
       "[0,                1],\n",
       "[0, -b/(m_c + 2*m_f)]])*Matrix([\n",
       "[   h],\n",
       "[hDot]]))"
      ]
     },
     "metadata": {},
     "output_type": "display_data"
    }
   ],
   "source": [
    "#Controllability Matrix\n",
    "import numpy as np\n",
    "from scipy.linalg import solve_continuous_are\n",
    "from scipy.signal import place_poles\n",
    "\n",
    "#break into lat and long\n",
    "A_lat = Matrix([[0,0,1,0],\n",
    "                [0,0,0,1],\n",
    "                [0,-g,-b/(mc+2*mf),0],\n",
    "                [0,0,0,-b/(2*d**2*mf)]])\n",
    "B_lat = Matrix([[0],\n",
    "                [0],\n",
    "                [0],\n",
    "                [1/(2*d**2*mf)]])\n",
    "xDot_lat = Matrix([[zDTilde],\n",
    "                   [thetaDTilde],\n",
    "                   [zDDTilde],\n",
    "                   [thetaDDTilde]])\n",
    "x_lat = Matrix([[z_s,theta_s,zD_s,thetaD_s]]).T\n",
    "u_lat = Matrix([[T_s]])\n",
    "display(Eq(xDot_lat, sp.Add(sp.MatMul(A_lat, x_lat), sp.MatMul(B_lat, u_lat)), evaluate=False))\n",
    "\n",
    "\n",
    "A_long = Matrix([[0,1],\n",
    "                 [0,-b/(mc+2*mf)]])\n",
    "B_long = Matrix([[0],\n",
    "                 [1/(mc*2*mf)]])\n",
    "xDot_long = Matrix([[hDTilde,hDDTilde]]).T\n",
    "x_long = Matrix([[h_s,hD_s]]).T\n",
    "u_long = Matrix([[F_s]])\n",
    "display(Eq(xDot_long, sp.Add(sp.MatMul(A_long, x_long), sp.MatMul(B_long, u_long)), evaluate=False))\n"
   ]
  },
  {
   "cell_type": "code",
   "execution_count": 2,
   "metadata": {},
   "outputs": [
    {
     "data": {
      "text/latex": [
       "$\\displaystyle \\left[\\begin{matrix}L \\sin{\\left(\\theta{\\left(t \\right)} \\right)} \\frac{d}{d t} \\theta{\\left(t \\right)} + \\frac{d}{d t} z{\\left(t \\right)}\\\\- L \\cos{\\left(\\theta{\\left(t \\right)} \\right)} \\frac{d}{d t} \\theta{\\left(t \\right)} + \\frac{d}{d t} h{\\left(t \\right)}\\\\0\\end{matrix}\\right]$"
      ],
      "text/plain": [
       "Matrix([\n",
       "[ L*sin(theta(t))*Derivative(theta(t), t) + Derivative(z(t), t)],\n",
       "[-L*cos(theta(t))*Derivative(theta(t), t) + Derivative(h(t), t)],\n",
       "[                                                             0]])"
      ]
     },
     "metadata": {},
     "output_type": "display_data"
    },
    {
     "data": {
      "text/latex": [
       "$\\displaystyle \\left[\\begin{matrix}- L \\sin{\\left(\\theta{\\left(t \\right)} \\right)} \\frac{d}{d t} \\theta{\\left(t \\right)} + \\frac{d}{d t} z{\\left(t \\right)}\\\\L \\cos{\\left(\\theta{\\left(t \\right)} \\right)} \\frac{d}{d t} \\theta{\\left(t \\right)} + \\frac{d}{d t} h{\\left(t \\right)}\\\\0\\end{matrix}\\right]$"
      ],
      "text/plain": [
       "Matrix([\n",
       "[-L*sin(theta(t))*Derivative(theta(t), t) + Derivative(z(t), t)],\n",
       "[ L*cos(theta(t))*Derivative(theta(t), t) + Derivative(h(t), t)],\n",
       "[                                                             0]])"
      ]
     },
     "metadata": {},
     "output_type": "display_data"
    },
    {
     "data": {
      "text/latex": [
       "$\\displaystyle \\left[\\begin{matrix}\\frac{d}{d t} z{\\left(t \\right)}\\\\\\frac{d}{d t} h{\\left(t \\right)}\\\\0\\end{matrix}\\right]$"
      ],
      "text/plain": [
       "Matrix([\n",
       "[Derivative(z(t), t)],\n",
       "[Derivative(h(t), t)],\n",
       "[                  0]])"
      ]
     },
     "metadata": {},
     "output_type": "display_data"
    }
   ],
   "source": [
    "import sympy as sp\n",
    "from sympy.physics.mechanics import dynamicsymbols\n",
    "from sympy import cos,sin\n",
    "theta,z,h=dynamicsymbols('theta,z,h')\n",
    "thetaDot,zDot,hDot=dynamicsymbols('theta,z,h',1)\n",
    "thetaDDot,zDDot,hDDot=dynamicsymbols('theta,z,h',2)\n",
    "b,Fl,Fr,g,L,t,mf,mc,m,Theta,Z,H,ThetaDot,ZDot,HDot,ThetaDDot,ZDDot,HDDot = sp.symbols('b,F_l,F_r,g,L,t,m_f,m_c,m,theta,z,h,thetaDot,zDot,hDot,thetaDDot,zDDot,hDDot')\n",
    "\n",
    "\n",
    "Pl = sp.Matrix([[z-L*cos(theta), h-L*sin(theta), 0]]).T\n",
    "Pr = sp.Matrix([[z+L*cos(theta), h+L*sin(theta), 0]]).T\n",
    "Pc = sp.Matrix([[z,h,0]]).T\n",
    "\n",
    "Vl = sp.diff(Pl,t)\n",
    "Vr = sp.diff(Pr,t)\n",
    "Vc = sp.diff(Pc,t)\n",
    "\n",
    "display(Vl)\n",
    "display(Vr)\n",
    "display(Vc)"
   ]
  },
  {
   "cell_type": "code",
   "execution_count": 3,
   "metadata": {},
   "outputs": [
    {
     "name": "stdout",
     "output_type": "stream",
     "text": [
      "position center\n"
     ]
    },
    {
     "data": {
      "text/latex": [
       "$\\displaystyle \\left[\\begin{matrix}z{\\left(t \\right)}\\\\h{\\left(t \\right)}\\\\0\\end{matrix}\\right]$"
      ],
      "text/plain": [
       "Matrix([\n",
       "[z(t)],\n",
       "[h(t)],\n",
       "[   0]])"
      ]
     },
     "metadata": {},
     "output_type": "display_data"
    },
    {
     "name": "stdout",
     "output_type": "stream",
     "text": [
      "\n",
      "position left\n"
     ]
    },
    {
     "data": {
      "text/latex": [
       "$\\displaystyle \\left[\\begin{matrix}- L \\cos{\\left(\\theta{\\left(t \\right)} \\right)} + z{\\left(t \\right)}\\\\- L \\sin{\\left(\\theta{\\left(t \\right)} \\right)} + h{\\left(t \\right)}\\\\0\\end{matrix}\\right]$"
      ],
      "text/plain": [
       "Matrix([\n",
       "[-L*cos(theta(t)) + z(t)],\n",
       "[-L*sin(theta(t)) + h(t)],\n",
       "[                      0]])"
      ]
     },
     "metadata": {},
     "output_type": "display_data"
    },
    {
     "name": "stdout",
     "output_type": "stream",
     "text": [
      "\n",
      "position right\n"
     ]
    },
    {
     "data": {
      "text/latex": [
       "$\\displaystyle \\left[\\begin{matrix}L \\cos{\\left(\\theta{\\left(t \\right)} \\right)} + z{\\left(t \\right)}\\\\L \\sin{\\left(\\theta{\\left(t \\right)} \\right)} + h{\\left(t \\right)}\\\\0\\end{matrix}\\right]$"
      ],
      "text/plain": [
       "Matrix([\n",
       "[L*cos(theta(t)) + z(t)],\n",
       "[L*sin(theta(t)) + h(t)],\n",
       "[                     0]])"
      ]
     },
     "metadata": {},
     "output_type": "display_data"
    },
    {
     "name": "stdout",
     "output_type": "stream",
     "text": [
      "\n",
      "velocity center\n"
     ]
    },
    {
     "data": {
      "text/latex": [
       "$\\displaystyle \\left[\\begin{matrix}\\frac{d}{d t} z{\\left(t \\right)}\\\\\\frac{d}{d t} h{\\left(t \\right)}\\\\0\\end{matrix}\\right]$"
      ],
      "text/plain": [
       "Matrix([\n",
       "[Derivative(z(t), t)],\n",
       "[Derivative(h(t), t)],\n",
       "[                  0]])"
      ]
     },
     "metadata": {},
     "output_type": "display_data"
    },
    {
     "name": "stdout",
     "output_type": "stream",
     "text": [
      "\n",
      "velocity left\n"
     ]
    },
    {
     "data": {
      "text/latex": [
       "$\\displaystyle \\left[\\begin{matrix}L \\sin{\\left(\\theta{\\left(t \\right)} \\right)} \\frac{d}{d t} \\theta{\\left(t \\right)} + \\frac{d}{d t} z{\\left(t \\right)}\\\\- L \\cos{\\left(\\theta{\\left(t \\right)} \\right)} \\frac{d}{d t} \\theta{\\left(t \\right)} + \\frac{d}{d t} h{\\left(t \\right)}\\\\0\\end{matrix}\\right]$"
      ],
      "text/plain": [
       "Matrix([\n",
       "[ L*sin(theta(t))*Derivative(theta(t), t) + Derivative(z(t), t)],\n",
       "[-L*cos(theta(t))*Derivative(theta(t), t) + Derivative(h(t), t)],\n",
       "[                                                             0]])"
      ]
     },
     "metadata": {},
     "output_type": "display_data"
    },
    {
     "name": "stdout",
     "output_type": "stream",
     "text": [
      "\n",
      "velcotiy right\n"
     ]
    },
    {
     "data": {
      "text/latex": [
       "$\\displaystyle \\left[\\begin{matrix}- L \\sin{\\left(\\theta{\\left(t \\right)} \\right)} \\frac{d}{d t} \\theta{\\left(t \\right)} + \\frac{d}{d t} z{\\left(t \\right)}\\\\L \\cos{\\left(\\theta{\\left(t \\right)} \\right)} \\frac{d}{d t} \\theta{\\left(t \\right)} + \\frac{d}{d t} h{\\left(t \\right)}\\\\0\\end{matrix}\\right]$"
      ],
      "text/plain": [
       "Matrix([\n",
       "[-L*sin(theta(t))*Derivative(theta(t), t) + Derivative(z(t), t)],\n",
       "[ L*cos(theta(t))*Derivative(theta(t), t) + Derivative(h(t), t)],\n",
       "[                                                             0]])"
      ]
     },
     "metadata": {},
     "output_type": "display_data"
    },
    {
     "name": "stdout",
     "output_type": "stream",
     "text": [
      "\n",
      "Vl.T@Vl\n"
     ]
    },
    {
     "data": {
      "text/latex": [
       "$\\displaystyle L^{2} \\dot{\\theta}^{2} - 2 L \\dot{h} \\dot{\\theta} \\cos{\\left(\\theta \\right)} + 2 L \\dot{\\theta} \\dot{z} \\sin{\\left(\\theta \\right)} + \\dot{h}^{2} + \\dot{z}^{2}$"
      ],
      "text/plain": [
       "L**2*thetaDot**2 - 2*L*hDot*thetaDot*cos(theta) + 2*L*thetaDot*zDot*sin(theta) + hDot**2 + zDot**2"
      ]
     },
     "metadata": {},
     "output_type": "display_data"
    },
    {
     "name": "stdout",
     "output_type": "stream",
     "text": [
      "\n",
      "Vr.T@Vr\n"
     ]
    },
    {
     "data": {
      "text/latex": [
       "$\\displaystyle L^{2} \\dot{\\theta}^{2} + 2 L \\dot{h} \\dot{\\theta} \\cos{\\left(\\theta \\right)} - 2 L \\dot{\\theta} \\dot{z} \\sin{\\left(\\theta \\right)} + \\dot{h}^{2} + \\dot{z}^{2}$"
      ],
      "text/plain": [
       "L**2*thetaDot**2 + 2*L*hDot*thetaDot*cos(theta) - 2*L*thetaDot*zDot*sin(theta) + hDot**2 + zDot**2"
      ]
     },
     "metadata": {},
     "output_type": "display_data"
    },
    {
     "name": "stdout",
     "output_type": "stream",
     "text": [
      "\n",
      "Vc.T@Vc\n"
     ]
    },
    {
     "data": {
      "text/latex": [
       "$\\displaystyle \\dot{h}^{2} + \\dot{z}^{2}$"
      ],
      "text/plain": [
       "hDot**2 + zDot**2"
      ]
     },
     "metadata": {},
     "output_type": "display_data"
    },
    {
     "name": "stdout",
     "output_type": "stream",
     "text": [
      "\n",
      "Kinetic Energy\n"
     ]
    },
    {
     "data": {
      "text/latex": [
       "$\\displaystyle 1.0 L^{2} m_{f} \\dot{\\theta}^{2} + 0.5 \\dot{h}^{2} m_{c} + 1.0 \\dot{h}^{2} m_{f} + 0.5 m_{c} \\dot{z}^{2} + 1.0 m_{f} \\dot{z}^{2}$"
      ],
      "text/plain": [
       "1.0*L**2*m_f*thetaDot**2 + 0.5*hDot**2*m_c + 1.0*hDot**2*m_f + 0.5*m_c*zDot**2 + 1.0*m_f*zDot**2"
      ]
     },
     "metadata": {},
     "output_type": "display_data"
    },
    {
     "name": "stdout",
     "output_type": "stream",
     "text": [
      "potential energy\n"
     ]
    },
    {
     "data": {
      "text/latex": [
       "$\\displaystyle g m h{\\left(t \\right)}$"
      ],
      "text/plain": [
       "g*m*h(t)"
      ]
     },
     "metadata": {},
     "output_type": "display_data"
    },
    {
     "name": "stdout",
     "output_type": "stream",
     "text": [
      "Lagrangian\n"
     ]
    },
    {
     "data": {
      "text/latex": [
       "$\\displaystyle 1.0 L^{2} m_{f} \\dot{\\theta}^{2} - g m h{\\left(t \\right)} + 0.5 \\dot{h}^{2} m_{c} + 1.0 \\dot{h}^{2} m_{f} + 0.5 m_{c} \\dot{z}^{2} + 1.0 m_{f} \\dot{z}^{2}$"
      ],
      "text/plain": [
       "1.0*L**2*m_f*thetaDot**2 - g*m*h(t) + 0.5*hDot**2*m_c + 1.0*hDot**2*m_f + 0.5*m_c*zDot**2 + 1.0*m_f*zDot**2"
      ]
     },
     "metadata": {},
     "output_type": "display_data"
    }
   ],
   "source": [
    "print('position center')\n",
    "display(Pc)\n",
    "\n",
    "print('\\nposition left')\n",
    "display(Pl)\n",
    "\n",
    "print('\\nposition right')\n",
    "display(Pr)\n",
    "\n",
    "print('\\nvelocity center')\n",
    "display(Vc)\n",
    "\n",
    "print('\\nvelocity left')\n",
    "display(Vl)\n",
    "\n",
    "print('\\nvelcotiy right')\n",
    "display(Vr)\n",
    "\n",
    "\n",
    "T1 = ((Vl.T@Vl)[0].subs([(thetaDot,ThetaDot),(zDot,ZDot),(hDot,HDot), (theta,Theta),(h,H),(z,Z)]).expand().simplify())\n",
    "T2 = ((Vr.T@Vr)[0].subs([(thetaDot,ThetaDot),(zDot,ZDot),(hDot,HDot), (theta,Theta),(h,H),(z,Z)]).expand().simplify())\n",
    "T3 = ((Vc.T@Vc)[0].subs([(thetaDot,ThetaDot),(zDot,ZDot),(hDot,HDot), (theta,Theta),(h,H),(z,Z)]).expand().simplify())\n",
    "\n",
    "print(\"\\nVl.T@Vl\")\n",
    "display(T1)\n",
    "\n",
    "print(\"\\nVr.T@Vr\")\n",
    "display(T2)\n",
    "\n",
    "print(\"\\nVc.T@Vc\")\n",
    "display(T3)\n",
    "\n",
    "K = (1/2*mf*T1 + 1/2*mf*T2 + 1/2*mc*T3).factor(zDot,thetaDot,hDot).simplify()\n",
    "print('\\nKinetic Energy')\n",
    "display(K)\n",
    "\n",
    "P = m*g*h\n",
    "print('potential energy')\n",
    "display(P)\n",
    "\n",
    "Lag = K-P\n",
    "print('Lagrangian')\n",
    "display(Lag)\n",
    "Lag = Lag.subs([(ThetaDot,thetaDot),(ZDot,zDot),(HDot,hDot), (Theta,theta),(H,h),(Z,z)])"
   ]
  },
  {
   "cell_type": "code",
   "execution_count": 4,
   "metadata": {},
   "outputs": [
    {
     "name": "stdout",
     "output_type": "stream",
     "text": [
      "derivative of lagrangian with respect to velocity:\n"
     ]
    },
    {
     "data": {
      "text/latex": [
       "$\\displaystyle \\left[\\begin{matrix}\\dot{z} \\left(1.0 m_{c} + 2.0 m_{f}\\right)\\\\1.0 \\dot{h} m_{c} + 2.0 \\dot{h} m_{f}\\\\2.0 L^{2} m_{f} \\dot{\\theta}\\end{matrix}\\right]$"
      ],
      "text/plain": [
       "Matrix([\n",
       "[   zDot*(1.0*m_c + 2.0*m_f)],\n",
       "[1.0*hDot*m_c + 2.0*hDot*m_f],\n",
       "[      2.0*L**2*m_f*thetaDot]])"
      ]
     },
     "metadata": {},
     "output_type": "display_data"
    },
    {
     "name": "stdout",
     "output_type": "stream",
     "text": [
      "first term of Euler Lagrange\n"
     ]
    },
    {
     "data": {
      "text/latex": [
       "$\\displaystyle \\left[\\begin{matrix}\\ddot{z} \\left(1.0 m_{c} + 2.0 m_{f}\\right)\\\\1.0 \\ddot{h} m_{c} + 2.0 \\ddot{h} m_{f}\\\\2.0 L^{2} m_{f} \\ddot{\\theta}\\end{matrix}\\right]$"
      ],
      "text/plain": [
       "Matrix([\n",
       "[    zDDot*(1.0*m_c + 2.0*m_f)],\n",
       "[1.0*hDDot*m_c + 2.0*hDDot*m_f],\n",
       "[       2.0*L**2*m_f*thetaDDot]])"
      ]
     },
     "metadata": {},
     "output_type": "display_data"
    },
    {
     "name": "stdout",
     "output_type": "stream",
     "text": [
      "second term of Euler Lagrange\n"
     ]
    },
    {
     "data": {
      "text/latex": [
       "$\\displaystyle \\left[\\begin{matrix}0\\\\- g m\\\\0\\end{matrix}\\right]$"
      ],
      "text/plain": [
       "Matrix([\n",
       "[   0],\n",
       "[-g*m],\n",
       "[   0]])"
      ]
     },
     "metadata": {},
     "output_type": "display_data"
    },
    {
     "name": "stdout",
     "output_type": "stream",
     "text": [
      "applied force\n"
     ]
    },
    {
     "data": {
      "text/latex": [
       "$\\displaystyle \\left[\\begin{matrix}\\left(- F_{l} - F_{r}\\right) \\sin{\\left(\\theta{\\left(t \\right)} \\right)}\\\\\\left(F_{l} + F_{r}\\right) \\cos{\\left(\\theta{\\left(t \\right)} \\right)}\\\\F_{l} L - F_{r} L\\end{matrix}\\right]$"
      ],
      "text/plain": [
       "Matrix([\n",
       "[(-F_l - F_r)*sin(theta(t))],\n",
       "[ (F_l + F_r)*cos(theta(t))],\n",
       "[             F_l*L - F_r*L]])"
      ]
     },
     "metadata": {},
     "output_type": "display_data"
    },
    {
     "name": "stdout",
     "output_type": "stream",
     "text": [
      "equations of motion for planar Vtol\n"
     ]
    },
    {
     "data": {
      "text/latex": [
       "$\\displaystyle \\left[\\begin{matrix}\\ddot{z} \\left(1.0 m_{c} + 2.0 m_{f}\\right)\\\\g m + 1.0 \\ddot{h} m_{c} + 2.0 \\ddot{h} m_{f}\\\\2.0 L^{2} m_{f} \\ddot{\\theta}\\end{matrix}\\right] = \\left[\\begin{matrix}- b \\dot{z} + \\left(- F_{l} - F_{r}\\right) \\sin{\\left(\\theta \\right)}\\\\- b \\dot{h} + \\left(F_{l} + F_{r}\\right) \\cos{\\left(\\theta \\right)}\\\\F_{l} L - F_{r} L - b \\dot{\\theta}\\end{matrix}\\right]$"
      ],
      "text/plain": [
       "Eq(Matrix([\n",
       "[          zDDot*(1.0*m_c + 2.0*m_f)],\n",
       "[g*m + 1.0*hDDot*m_c + 2.0*hDDot*m_f],\n",
       "[             2.0*L**2*m_f*thetaDDot]]), Matrix([\n",
       "[-b*zDot + (-F_l - F_r)*sin(theta)],\n",
       "[ -b*hDot + (F_l + F_r)*cos(theta)],\n",
       "[       F_l*L - F_r*L - b*thetaDot]]))"
      ]
     },
     "metadata": {},
     "output_type": "display_data"
    },
    {
     "name": "stdout",
     "output_type": "stream",
     "text": [
      "Solved equations of motion\n"
     ]
    },
    {
     "data": {
      "text/latex": [
       "$\\displaystyle \\left[\\begin{matrix}- \\frac{F_{l} \\sin{\\left(\\theta \\right)} + F_{r} \\sin{\\left(\\theta \\right)} + b \\dot{z}}{m_{c} + 2.0 m_{f}}\\\\\\frac{F_{l} \\cos{\\left(\\theta \\right)} + F_{r} \\cos{\\left(\\theta \\right)} - b \\dot{h} - g m}{m_{c} + 2.0 m_{f}}\\\\\\frac{0.5 \\left(F_{l} L - F_{r} L - b \\dot{\\theta}\\right)}{L^{2} m_{f}}\\end{matrix}\\right]$"
      ],
      "text/plain": [
       "Matrix([\n",
       "[     -(F_l*sin(theta) + F_r*sin(theta) + b*zDot)/(m_c + 2.0*m_f)],\n",
       "[(F_l*cos(theta) + F_r*cos(theta) - b*hDot - g*m)/(m_c + 2.0*m_f)],\n",
       "[                     0.5*(F_l*L - F_r*L - b*thetaDot)/(L**2*m_f)]])"
      ]
     },
     "metadata": {},
     "output_type": "display_data"
    }
   ],
   "source": [
    "pL_pqDot = sp.Matrix([[sp.diff(Lag,zDot).simplify(),sp.diff(Lag,hDot),sp.diff(Lag,thetaDot).simplify()]]).T\n",
    "\n",
    "print('derivative of lagrangian with respect to velocity:')\n",
    "display(pL_pqDot.subs([(thetaDot,ThetaDot),(zDot,ZDot),(hDot,HDot), (theta,Theta),(h,H),(z,Z)]))\n",
    "\n",
    "\n",
    "T1 = sp.diff(pL_pqDot,t)\n",
    "print(\"first term of Euler Lagrange\")\n",
    "display(T1.subs([(thetaDDot,ThetaDDot),(zDDot,ZDDot),(hDDot,HDDot),(thetaDot,ThetaDot),(zDot,ZDot),(hDot,HDot), (theta,Theta),(h,H),(z,Z)]))\n",
    "\n",
    "\n",
    "T2 = sp.Matrix([[sp.diff(Lag,z), sp.diff(Lag,h), sp.diff(Lag,theta)]]).T\n",
    "print(\"second term of Euler Lagrange\")\n",
    "display(T2)\n",
    "\n",
    "tau = sp.Matrix([[-(Fl+Fr)*sin(theta), (Fl+Fr)*cos(theta), L*Fl-L*Fr]]).T\n",
    "print(\"applied force\")\n",
    "display(tau)\n",
    "\n",
    "qDot = sp.Matrix([[zDot,hDot,thetaDot]]).T\n",
    "EOM = sp.Eq(T1-T2,tau-b*qDot)\n",
    "print(\"equations of motion for planar Vtol\")\n",
    "display(EOM.subs([(thetaDDot,ThetaDDot),(zDDot,ZDDot),(hDDot,HDDot),(thetaDot,ThetaDot),(zDot,ZDot),(hDot,HDot), (theta,Theta),(h,H),(z,Z)]))\n",
    "\n",
    "S = sp.solve(EOM,[zDDot,hDDot,thetaDDot])\n",
    "EOM = sp.Matrix([[S[zDDot].simplify(), S[hDDot].simplify(), S[thetaDDot].simplify()]]).T\n",
    "print('Solved equations of motion')\n",
    "display(EOM.subs([(thetaDDot,ThetaDDot),(zDDot,ZDDot),(hDDot,HDDot),(thetaDot,ThetaDot),(zDot,ZDot),(hDot,HDot), (theta,Theta),(h,H),(z,Z)]))"
   ]
  },
  {
   "cell_type": "code",
   "execution_count": 5,
   "metadata": {},
   "outputs": [
    {
     "name": "stdout",
     "output_type": "stream",
     "text": [
      "linearized equations of motion\n"
     ]
    },
    {
     "data": {
      "text/latex": [
       "$\\displaystyle \\left[\\begin{matrix}- \\frac{b \\dot{\\tilde{z}}}{m} - g \\tilde{\\theta}\\\\\\frac{\\tilde{F}}{m} - \\frac{b \\dot{\\tilde{h}}}{m}\\\\\\frac{\\tilde{T}}{2 L^{2} m_{f}} - \\frac{b \\dot{\\tilde{\\theta}}}{2 L^{2} m_{f}}\\end{matrix}\\right]$"
      ],
      "text/plain": [
       "Matrix([\n",
       "[                     -b*ztildeDot/m - g*thetatilde],\n",
       "[                          Ftilde/m - b*htildeDot/m],\n",
       "[Ttilde/(2*L**2*m_f) - b*thetatildeDot/(2*L**2*m_f)]])"
      ]
     },
     "metadata": {},
     "output_type": "display_data"
    },
    {
     "name": "stdout",
     "output_type": "stream",
     "text": [
      "Laplace Domani Equations\n"
     ]
    },
    {
     "data": {
      "text/latex": [
       "$\\displaystyle \\tilde{Z}{\\left(s \\right)} = \\frac{\\tilde{\\Theta}{\\left(s \\right)}}{m \\left(\\frac{b s}{m} + s^{2}\\right)}$"
      ],
      "text/plain": [
       "Eq(Ztilde(s), Thetatilde(s)/(m*(b*s/m + s**2)))"
      ]
     },
     "metadata": {},
     "output_type": "display_data"
    },
    {
     "data": {
      "text/latex": [
       "$\\displaystyle \\tilde{H}{\\left(s \\right)} = \\frac{\\tilde{F}{\\left(s \\right)}}{m \\left(\\frac{b s}{m} + s^{2}\\right)}$"
      ],
      "text/plain": [
       "Eq(Htilde(s), Ftilde(s)/(m*(b*s/m + s**2)))"
      ]
     },
     "metadata": {},
     "output_type": "display_data"
    },
    {
     "data": {
      "text/latex": [
       "$\\displaystyle \\tilde{\\Theta}{\\left(s \\right)} = \\frac{\\tilde{T}{\\left(s \\right)}}{s^{2} + \\frac{b s}{4 L^{4} m_{f}^{2}}}$"
      ],
      "text/plain": [
       "Eq(Thetatilde(s), Ttilde(s)/(s**2 + b*s/(4*L**4*m_f**2)))"
      ]
     },
     "metadata": {},
     "output_type": "display_data"
    },
    {
     "name": "stdout",
     "output_type": "stream",
     "text": [
      "transfer function of torque to altitude\n"
     ]
    },
    {
     "data": {
      "text/latex": [
       "$\\displaystyle \\tilde{Z}{\\left(s \\right)} = \\frac{4 L^{4} m_{f}^{2} \\tilde{T}{\\left(s \\right)}}{s^{2} \\left(b + m s\\right) \\left(4 L^{4} m_{f}^{2} s + b\\right)}$"
      ],
      "text/plain": [
       "Eq(Ztilde(s), 4*L**4*m_f**2*Ttilde(s)/(s**2*(b + m*s)*(4*L**4*m_f**2*s + b)))"
      ]
     },
     "metadata": {},
     "output_type": "display_data"
    }
   ],
   "source": [
    "ztDDot,htDDot,thetatDDot,ztDot,htDot,thetatDot,zt,ht,thetat,Ft,Tt,s = sp.symbols('ztildeDDot,htildeDDot,thetatildeDDot,ztildeDot,htildeDot,thetatildeDot,ztilde,htilde,thetatilde,Ftilde,Ttilde,s')\n",
    "Z,H,Theta,F,T = [i.subs(t,s) for i in dynamicsymbols('Ztilde,Htilde,Thetatilde,Ftilde,Ttilde')]\n",
    "\n",
    "\n",
    "LEOM = sp.Matrix([[-thetat*g-b*ztDot/m],\n",
    "                  [Ft/m-b*htDot/m],\n",
    "                  [Tt/(2*L**2*mf)-thetatDot*b/(2*L**2*mf)]])\n",
    "print('linearized equations of motion')\n",
    "display(LEOM)\n",
    "\n",
    "angle_TO_alt = sp.Eq(Z,(1/m)/(s**2+b/m*s) * Theta)\n",
    "Force_TO_dist = sp.Eq(H,(1/m)/(s**2+b/m*s) * F)\n",
    "Torque_TO_angle = sp.Eq(Theta,1/(s**2+s*b/(2*L**2*mf) * 1/(2*L**2*mf)) * T)\n",
    "\n",
    "print(\"Laplace Domani Equations\")\n",
    "display(angle_TO_alt)\n",
    "display(Force_TO_dist)\n",
    "display(Torque_TO_angle)\n",
    "\n",
    "print(\"transfer function of torque to altitude\")\n",
    "Torque_TO_alt = angle_TO_alt.subs(Theta,Torque_TO_angle.rhs).simplify()\n",
    "display(Torque_TO_alt)"
   ]
  }
 ],
 "metadata": {
  "kernelspec": {
   "display_name": "basic",
   "language": "python",
   "name": "python3"
  },
  "language_info": {
   "codemirror_mode": {
    "name": "ipython",
    "version": 3
   },
   "file_extension": ".py",
   "mimetype": "text/x-python",
   "name": "python",
   "nbconvert_exporter": "python",
   "pygments_lexer": "ipython3",
   "version": "undefined.undefined.undefined"
  }
 },
 "nbformat": 4,
 "nbformat_minor": 2
}
