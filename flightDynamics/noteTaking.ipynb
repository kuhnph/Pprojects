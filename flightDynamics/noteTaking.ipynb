{
 "cells": [
  {
   "cell_type": "code",
   "execution_count": 1,
   "id": "020e076b",
   "metadata": {},
   "outputs": [],
   "source": [
    "import sympy as sp"
   ]
  },
  {
   "cell_type": "markdown",
   "id": "275eccce",
   "metadata": {
    "vscode": {
     "languageId": "latex"
    }
   },
   "source": [
    "## Coordinated Turn Dynamics\n",
    "\n",
    "**Concept:**\n",
    "$$\n",
    "\\boxed{\n",
    "\\dot\\psi=q\\sin{\\phi}\\sec{\\theta}+r\\cos{\\phi}\\sec{\\theta}\n",
    "}\n",
    "$$\n",
    "- The **heading rate** (or course rate) of an aircraft depends on:\n",
    "  - **Pitch rate** \\( q \\)\n",
    "  - **Yaw rate** \\( r \\)\n",
    "  - **Pitch angle** \\( $\\theta$ \\)\n",
    "  - **Roll angle** \\( $\\phi$ \\)\n",
    "- These states are governed by ordinary differential equations (ODEs).\n",
    "- For simplified analysis, we assume **coordinated turn conditions**, which are common in linear aircraft modeling.\n",
    "\n",
    "---\n",
    "\n",
    "### Motivation for Coordinated Turn Assumption\n",
    "\n",
    "- In a coordinated turn:\n",
    "  - There is **no lateral (side) acceleration** in the body frame.\n",
    "  - The aircraft \"carves\" the turn without skidding.\n",
    "  - This condition is desirable in manned flight for **passenger comfort**.\n",
    "- Modeling benefit:\n",
    "  - Enables a simple relation between **bank angle** \\( $\\phi$ \\) and **course rate** \\( $\\dot{\\chi}$ \\)\n",
    "\n",
    "---\n",
    "\n",
    "### Force Balance in Horizontal Plane\n",
    "\n",
    "Assuming no lateral force, the horizontal component of lift provides the required centripetal force:\n",
    "\n",
    "\\[\n",
    "$\\frac{V_a^2}{R} = g \\tan(\\phi)$\n",
    "\\]\n",
    "\n",
    "Solving for turn radius \\( R \\):\n",
    "\n",
    "\\[\n",
    "$\\frac{1}{R} = \\frac{g \\tan(\\phi)}{V_a^2}$\n",
    "\\]\n",
    "\n",
    "---\n",
    "\n",
    "### Heading (Course) Rate Equation\n",
    "\n",
    "The heading rate (also called course rate) is:\n",
    "\n",
    "\\[\n",
    "$\\dot{\\chi} = \\frac{V_a}{R} = \\frac{g}{V_a} \\tan(\\phi)$\n",
    "\\]\n",
    "\n",
    "---\n",
    "\n",
    "### Final Simplified Expression\n",
    "$$\n",
    "\\boxed{\n",
    "\\dot{\\chi} = \\frac{g}{V_a} \\tan(\\phi)\n",
    "}\n",
    "$$\n",
    "\n",
    "- \\( $\\dot{\\chi}$ \\): Course (heading) rate  \n",
    "- \\( $V_a$ \\): Airspeed  \n",
    "- \\( $\\phi$ \\): Bank angle  \n",
    "- \\( g \\): Gravitational acceleration\n",
    "\n",
    "This equation forms the basis for simplified lateral-directional dynamics and is widely used in heading control system design.\n"
   ]
  },
  {
   "cell_type": "code",
   "execution_count": null,
   "id": "f044cc02",
   "metadata": {},
   "outputs": [],
   "source": []
  }
 ],
 "metadata": {
  "kernelspec": {
   "display_name": "base",
   "language": "python",
   "name": "python3"
  },
  "language_info": {
   "codemirror_mode": {
    "name": "ipython",
    "version": 3
   },
   "file_extension": ".py",
   "mimetype": "text/x-python",
   "name": "python",
   "nbconvert_exporter": "python",
   "pygments_lexer": "ipython3",
   "version": "3.11.5"
  }
 },
 "nbformat": 4,
 "nbformat_minor": 5
}
